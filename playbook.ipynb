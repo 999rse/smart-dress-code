{
 "cells": [
  {
   "cell_type": "code",
   "execution_count": null,
   "metadata": {},
   "outputs": [],
   "source": [
    "# Install all requirements\n",
    "%pip install -r requirements.txt"
   ]
  },
  {
   "cell_type": "code",
   "execution_count": null,
   "metadata": {},
   "outputs": [],
   "source": [
    "# Data aggregator \n",
    "\n",
    "# Uncomment if need it\n",
    "# By this CLI read README.md or use command:\n",
    "# !python3 aggregate_data.py -h\n",
    "# !python3 aggregate_data.py -r datasets/raw -i datasets/internal -p datasets/processed"
   ]
  },
  {
   "cell_type": "code",
   "execution_count": null,
   "metadata": {},
   "outputs": [],
   "source": [
    "# Get weights\n",
    "# Download the weight you need\n",
    "# !wget https://github.com/WongKinYiu/yolov7/releases/download/v0.1/yolov7-w6_training.pt\n",
    "# !wget https://github.com/WongKinYiu/yolov7/releases/download/v0.1/yolov7-e6_training.pt\n",
    "# !wget https://github.com/WongKinYiu/yolov7/releases/download/v0.1/yolov7-d6_training.pt\n",
    "# !wget https://github.com/WongKinYiu/yolov7/releases/download/v0.1/yolov7-e6e_training.pt\n",
    "# !wget https://github.com/WongKinYiu/yolov7/releases/download/v0.1/yolov7x_training.pt \n",
    "!wget https://github.com/WongKinYiu/yolov7/releases/download/v0.1/yolov7_training.pt"
   ]
  },
  {
   "cell_type": "code",
   "execution_count": null,
   "metadata": {},
   "outputs": [],
   "source": [
    "#Train model (full description read on official github, but this run is no different than the original)\n",
    "!python3 train.py --workers 1  --epochs 1 --batch-size 16 --data datasets/precessed/data.yaml --img 640 640 --cfg cfg/training/yolov7.yaml --weights 'yolov7_training.pt' --name yolov7 --hyp data/hyp.scratch.p5.yaml"
   ]
  },
  {
   "cell_type": "code",
   "execution_count": null,
   "metadata": {},
   "outputs": [],
   "source": [
    "# Run evaluation\n",
    "!python3 detect.py --weights runs/train/sdc/weights/best.pt --conf 0.1 --source datasets/eval/myphoto.png"
   ]
  }
 ],
 "metadata": {
  "kernelspec": {
   "display_name": "Python 3",
   "language": "python",
   "name": "python3"
  },
  "language_info": {
   "codemirror_mode": {
    "name": "ipython",
    "version": 3
   },
   "file_extension": ".py",
   "mimetype": "text/x-python",
   "name": "python",
   "nbconvert_exporter": "python",
   "pygments_lexer": "ipython3",
   "version": "3.10.12"
  },
  "orig_nbformat": 4
 },
 "nbformat": 4,
 "nbformat_minor": 2
}
